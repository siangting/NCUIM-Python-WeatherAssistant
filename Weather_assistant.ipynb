{
 "cells": [
  {
   "cell_type": "code",
   "execution_count": 1,
   "metadata": {},
   "outputs": [
    {
     "name": "stdout",
     "output_type": "stream",
     "text": [
      "200\n",
      "桃園市\n",
      "2022-06-17 06:00:00\n",
      "2022-06-17 18:00:00\n",
      "多雲時陰\n",
      "20\n",
      "25\n",
      "舒適至悶熱\n",
      "30\n"
     ]
    }
   ],
   "source": [
    "import requests\n",
    "import json\n",
    "\n",
    "url = \"https://opendata.cwb.gov.tw/api/v1/rest/datastore/F-C0032-001\"\n",
    "params = {\n",
    "    \"Authorization\": \"CWB-11505125-6C17-4A38-8873-3D1B3214BCD8\", #API授權碼\n",
    "    \"locationName\": \"桃園市\",  #城市\n",
    "}\n",
    "\n",
    "response = requests.get(url, params=params)\n",
    "print(response.status_code)\n",
    "\n",
    "#將資料撈出來看看\n",
    "if response.status_code == 200:\n",
    "    # print(response.text)\n",
    "    data = json.loads(response.text)\n",
    "\n",
    "    location = data[\"records\"][\"location\"][0][\"locationName\"]\n",
    "\n",
    "    weather_elements = data[\"records\"][\"location\"][0][\"weatherElement\"]\n",
    "    start_time = weather_elements[0][\"time\"][1][\"startTime\"]\n",
    "    end_time = weather_elements[0][\"time\"][1][\"endTime\"]\n",
    "    weather_state = weather_elements[0][\"time\"][1][\"parameter\"][\"parameterName\"]\n",
    "    rain_prob = weather_elements[1][\"time\"][1][\"parameter\"][\"parameterName\"]\n",
    "    min_tem = weather_elements[2][\"time\"][1][\"parameter\"][\"parameterName\"]\n",
    "    comfort = weather_elements[3][\"time\"][1][\"parameter\"][\"parameterName\"]\n",
    "    max_tem = weather_elements[4][\"time\"][1][\"parameter\"][\"parameterName\"]\n",
    "\n",
    "    print(location)\n",
    "    print(start_time)\n",
    "    print(end_time)\n",
    "    print(weather_state)\n",
    "    print(rain_prob)\n",
    "    print(min_tem)\n",
    "    print(comfort)\n",
    "    print(max_tem)\n",
    "\n",
    "else:\n",
    "    print(\"Can't get data!\")"
   ]
  },
  {
   "cell_type": "code",
   "execution_count": 2,
   "metadata": {},
   "outputs": [],
   "source": [
    "#傳送訊息\n",
    "def line_notify(data):\n",
    "\n",
    "    token = \"HfdnpRgbEQ6K0LIJMKQ0AfYCazLOmHHWLfPS5I6CRZ4\"  #LINE Notify權杖\n",
    "    message = \"\"\n",
    "\n",
    "    if len(data) == 0:\n",
    "        message += \"\\n[Error] 無法取得天氣資訊\"\n",
    "    else:\n",
    "        message += f\"\\n今天{data[0]}的天氣: {data[3]}\\n\"\n",
    "        message += f\"溫度: {data[5]}°C - {data[7]}°C\\n\"\n",
    "        message += f\"降雨機率: {data[4]}%\\n\"\n",
    "        message += f\"舒適度: {data[6]}\\n\"\n",
    "        message += f\"時間: {data[1]} ~ {data[2]}\\n\"\n",
    "\n",
    "\n",
    "        image = open('pre.jfif', 'rb')    # 以二進位方式開啟圖片\n",
    "        imageFile = {'imageFile' : image}   # 設定圖片資訊\n",
    "        \n",
    "        if int(data[4]) > 70:\n",
    "            message += \"系女排雨神同行，今天又要停練了..\"\n",
    "            image = open('rain.jpg', 'rb')    # 以二進位方式開啟圖片\n",
    "            imageFile = {'imageFile' : image}   # 設定圖片資訊\n",
    "        elif int(data[7]) > 30:\n",
    "            message += \"太陽公公出來了，不擦防曬會變黑人~\"\n",
    "            image = open('sun.jfif', 'rb')    # 以二進位方式開啟圖片\n",
    "            imageFile = {'imageFile' : image}   # 設定圖片資訊\n",
    "        elif int(data[5]) < 15:\n",
    "            message += \"今天很冷，穿短褲膝蓋會壞掉！\"\n",
    "            image = open('cold.jpg', 'rb')    # 以二進位方式開啟圖片\n",
    "            imageFile = {'imageFile' : image}   # 設定圖片資訊\n",
    "\n",
    "    # line notify所需資料\n",
    "    line_url = \"https://notify-api.line.me/api/notify\"\n",
    "    line_header = {\n",
    "        \"Authorization\": 'Bearer ' + token\n",
    "    }\n",
    "    line_data = {\n",
    "        \"message\": message\n",
    "    }\n",
    "\n",
    "    line_data = requests.post(url=line_url, headers=line_header, data=line_data, files=imageFile)"
   ]
  },
  {
   "cell_type": "code",
   "execution_count": 3,
   "metadata": {},
   "outputs": [],
   "source": [
    "#呼叫line_notify\n",
    "line_notify(tuple([location, start_time, end_time, weather_state, rain_prob, min_tem, comfort, max_tem]))"
   ]
  }
 ],
 "metadata": {
  "interpreter": {
   "hash": "81794d4967e6c3204c66dcd87b604927b115b27c00565d3d43f05ba2f3a2cb0d"
  },
  "kernelspec": {
   "display_name": "Python 3.9.0 64-bit",
   "language": "python",
   "name": "python3"
  },
  "language_info": {
   "codemirror_mode": {
    "name": "ipython",
    "version": 3
   },
   "file_extension": ".py",
   "mimetype": "text/x-python",
   "name": "python",
   "nbconvert_exporter": "python",
   "pygments_lexer": "ipython3",
   "version": "3.9.0"
  },
  "orig_nbformat": 4
 },
 "nbformat": 4,
 "nbformat_minor": 2
}
